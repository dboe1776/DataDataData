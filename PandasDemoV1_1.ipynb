{
 "cells": [
  {
   "cell_type": "markdown",
   "metadata": {},
   "source": [
    "# An Introduction to the Pandas DataFrame Structure\n",
    "\n",
    "Pandas is quite likely the most important python module available to engineers; it is essentially a data processing and analysis package that provides an architecture designed to handle small (1 sample) or large ( > 1 million rows) datasets with ease.  Let's dive in!     "
   ]
  },
  {
   "cell_type": "markdown",
   "metadata": {},
   "source": [
    "## The Pandas DataFrame \n",
    "\n",
    "At the very heart of pandas is a thing called a dataframe - a pandas.DataFrame() to be exact.  The dataframe is an object that serves as the storehouse for all your data; it is essentially a massive table in which you have columns that represent data fields and rows that represent a certain observance of these data fields.  For instance, we may have dataframe that stores the results from a laboratory experiment in which a pressure transducer measures the internal pressure of an air-filled vessel and a thermocouple measures the internal temperature. Imagine that we are interested in verifying ideal gas law by pressurizing vessel and measuring both the temperature and pressure once every second; we run the experiment for ten minutes and log these data (perhaps using an Arduino based transducer interfaced to a python based logger) and obtian a .csv file that contains \"InternalTemp\", \"InternalPres\", and \"TimeStamp\" as the three datafields where \"TimeStamp\" is the date and time at which the measurment was performed.  In this case, we would import these data into a pandas dataframe (using the pandas.import_csv( ) function ) and obtain an organized table with three columns and 600 rows ($\\big(\n",
    "1\\frac{sample}{sec}\\big)\\big(\\frac{60 sec}{min}\\big)\\big(10 min\\big)$).  This leads to the next fundamental aspect of dataframes\n",
    "\n",
    "In our hypothetical dataframe, we have three datafields where two supply the physcial measurments we seek and the other gives information about when these measurements were recorded; furthermore, the timestamp provides a way to link the temeprature and pressure to one another at certain reference points (the the time at which they were taken).  Hence, the \"TimeStamp\" columns would provide an excellent way to $\\textit{index}$ our dataframe.\n",
    "\n",
    "Since I don't have any actual temperature and pressure data to play with, let's just create a dataframe using some common mathematical functions to generate the columns\n",
    " \n"
   ]
  },
  {
   "cell_type": "markdown",
   "metadata": {},
   "source": [
    "### Pandas Intro - Demo 1.1\n",
    "\n",
    "Begin (as most python scripts do) by importing the modules you will be using."
   ]
  },
  {
   "cell_type": "code",
   "execution_count": 44,
   "metadata": {},
   "outputs": [],
   "source": [
    "import numpy as np \n",
    "import pandas as pd\n",
    "import matplotlib.pyplot as plt"
   ]
  },
  {
   "cell_type": "markdown",
   "metadata": {},
   "source": [
    "Next, we get to the actual coding by doing the following \n",
    "1. Create the input column, $x$, using the *linspace* function from the numpy package.  This function (identical to linspace MatLab users will be familiar with) just generates an array of equally spaced values between two specified numbers; the syntax is *np.linspace(Start,Stop,NumberOfPoints)*\n",
    "2. Create a *dictionary* which contains three keys, *Function1*, *Function2*, and *Input*.  Each key is basically just a label for each corresponding variable contained within the dictionary, so rather than just creating an *array* of three different variables, we create a *dictionary* of three different variables where each variable is accessed using its key rather than a positional index.  In this case, each variable is an array; the *Input* variable is just the $x$ values we already made.  Let's make *Function1* be a decaying $cosine$ function, and let's have *Function2* be a decaying $sine$ function\n",
    "3. Finally, we convert the variable $Data$ (which is a dictionary object) into a pandas *DataFrame* object called $DF$."
   ]
  },
  {
   "cell_type": "code",
   "execution_count": 45,
   "metadata": {},
   "outputs": [],
   "source": [
    "x=np.linspace(0,6*np.pi,1000)\n",
    "Data={'Function1':np.cos(x)*1/(1+x),'Function2':np.sin(x)*1/(1+x),'Input':x}\n",
    "DF=pd.DataFrame(Data)"
   ]
  },
  {
   "cell_type": "markdown",
   "metadata": {},
   "source": [
    "We can take a look at our DataFrame by typing in $DF$"
   ]
  },
  {
   "cell_type": "code",
   "execution_count": 46,
   "metadata": {
    "scrolled": true
   },
   "outputs": [
    {
     "data": {
      "text/html": [
       "<div>\n",
       "<style scoped>\n",
       "    .dataframe tbody tr th:only-of-type {\n",
       "        vertical-align: middle;\n",
       "    }\n",
       "\n",
       "    .dataframe tbody tr th {\n",
       "        vertical-align: top;\n",
       "    }\n",
       "\n",
       "    .dataframe thead th {\n",
       "        text-align: right;\n",
       "    }\n",
       "</style>\n",
       "<table border=\"1\" class=\"dataframe\">\n",
       "  <thead>\n",
       "    <tr style=\"text-align: right;\">\n",
       "      <th></th>\n",
       "      <th>Function1</th>\n",
       "      <th>Function2</th>\n",
       "      <th>Input</th>\n",
       "    </tr>\n",
       "  </thead>\n",
       "  <tbody>\n",
       "    <tr>\n",
       "      <td>0</td>\n",
       "      <td>1.000000</td>\n",
       "      <td>0.000000e+00</td>\n",
       "      <td>0.000000</td>\n",
       "    </tr>\n",
       "    <tr>\n",
       "      <td>1</td>\n",
       "      <td>0.981306</td>\n",
       "      <td>1.851790e-02</td>\n",
       "      <td>0.018868</td>\n",
       "    </tr>\n",
       "    <tr>\n",
       "      <td>2</td>\n",
       "      <td>0.962949</td>\n",
       "      <td>3.635593e-02</td>\n",
       "      <td>0.037737</td>\n",
       "    </tr>\n",
       "    <tr>\n",
       "      <td>3</td>\n",
       "      <td>0.944911</td>\n",
       "      <td>5.354417e-02</td>\n",
       "      <td>0.056605</td>\n",
       "    </tr>\n",
       "    <tr>\n",
       "      <td>4</td>\n",
       "      <td>0.927176</td>\n",
       "      <td>7.011056e-02</td>\n",
       "      <td>0.075474</td>\n",
       "    </tr>\n",
       "    <tr>\n",
       "      <td>...</td>\n",
       "      <td>...</td>\n",
       "      <td>...</td>\n",
       "      <td>...</td>\n",
       "    </tr>\n",
       "    <tr>\n",
       "      <td>995</td>\n",
       "      <td>0.050427</td>\n",
       "      <td>-3.813176e-03</td>\n",
       "      <td>18.774082</td>\n",
       "    </tr>\n",
       "    <tr>\n",
       "      <td>996</td>\n",
       "      <td>0.050442</td>\n",
       "      <td>-2.858343e-03</td>\n",
       "      <td>18.792951</td>\n",
       "    </tr>\n",
       "    <tr>\n",
       "      <td>997</td>\n",
       "      <td>0.050439</td>\n",
       "      <td>-1.904312e-03</td>\n",
       "      <td>18.811819</td>\n",
       "    </tr>\n",
       "    <tr>\n",
       "      <td>998</td>\n",
       "      <td>0.050418</td>\n",
       "      <td>-9.514196e-04</td>\n",
       "      <td>18.830687</td>\n",
       "    </tr>\n",
       "    <tr>\n",
       "      <td>999</td>\n",
       "      <td>0.050379</td>\n",
       "      <td>-3.701786e-17</td>\n",
       "      <td>18.849556</td>\n",
       "    </tr>\n",
       "  </tbody>\n",
       "</table>\n",
       "<p>1000 rows × 3 columns</p>\n",
       "</div>"
      ],
      "text/plain": [
       "     Function1     Function2      Input\n",
       "0     1.000000  0.000000e+00   0.000000\n",
       "1     0.981306  1.851790e-02   0.018868\n",
       "2     0.962949  3.635593e-02   0.037737\n",
       "3     0.944911  5.354417e-02   0.056605\n",
       "4     0.927176  7.011056e-02   0.075474\n",
       "..         ...           ...        ...\n",
       "995   0.050427 -3.813176e-03  18.774082\n",
       "996   0.050442 -2.858343e-03  18.792951\n",
       "997   0.050439 -1.904312e-03  18.811819\n",
       "998   0.050418 -9.514196e-04  18.830687\n",
       "999   0.050379 -3.701786e-17  18.849556\n",
       "\n",
       "[1000 rows x 3 columns]"
      ]
     },
     "execution_count": 46,
     "metadata": {},
     "output_type": "execute_result"
    }
   ],
   "source": [
    "DF"
   ]
  },
  {
   "cell_type": "markdown",
   "metadata": {},
   "source": [
    "Everything seems to be in order.  Note that we have three labeled columns and 1000 rows (it says 999 as the last index, but don't forget that it starts at 0).\n",
    "\n",
    "There are two ways we can access a specfic column of a *DataFrame*; we can either use brackets to specificy the column name as a string or we can use  a period to specify the column name as an attribute of the *DataFrame* object. For instance, either line below will return the same result."
   ]
  },
  {
   "cell_type": "code",
   "execution_count": 47,
   "metadata": {},
   "outputs": [
    {
     "data": {
      "text/plain": [
       "0      1.000000\n",
       "1      0.981306\n",
       "2      0.962949\n",
       "3      0.944911\n",
       "4      0.927176\n",
       "         ...   \n",
       "995    0.050427\n",
       "996    0.050442\n",
       "997    0.050439\n",
       "998    0.050418\n",
       "999    0.050379\n",
       "Name: Function1, Length: 1000, dtype: float64"
      ]
     },
     "execution_count": 47,
     "metadata": {},
     "output_type": "execute_result"
    }
   ],
   "source": [
    "DF['Function1']\n",
    "DF.Function1"
   ]
  },
  {
   "cell_type": "markdown",
   "metadata": {},
   "source": [
    "We can utilize the *Matplotlib* package to create some nice plots of our data.  See the **PythonPlottingDemo** notebook for a plotting tutorial. Let's begin by generating some line plots of the data."
   ]
  },
  {
   "cell_type": "code",
   "execution_count": 48,
   "metadata": {
    "slideshow": {
     "slide_type": "-"
    }
   },
   "outputs": [
    {
     "data": {
      "text/plain": [
       "Text(0.5, 0.98, 'Example of Plotting in Matplotlib')"
      ]
     },
     "execution_count": 48,
     "metadata": {},
     "output_type": "execute_result"
    },
    {
     "data": {
      "image/png": "[encoded data removed]",
      "text/plain": [
       "<Figure size 750x500 with 1 Axes>"
      ]
     },
     "metadata": {
      "needs_background": "light"
     },
     "output_type": "display_data"
    }
   ],
   "source": [
    "'''Create figure and axes objects'''\n",
    "fig=plt.figure(dpi=125)\n",
    "ax=plt.axes()\n",
    "\n",
    "'''Generate the plots and add a grid to the axis'''\n",
    "plt.plot(DF.Input,DF.Function1,color='saddlebrown',linewidth=3,label='Function1')\n",
    "plt.plot(DF.Input,DF.Function2,color='seagreen',linewidth=3,label='Function2')\n",
    "plt.grid()\n",
    "\n",
    "'''Add a legend and set the axis limits and labels'''\n",
    "ax.legend(loc='upper right',fontsize=16,facecolor='white',framealpha=0.25)\n",
    "ax.set_xlim(right = DF.Input.iloc[-1] , left = DF.Input.iloc[0])\n",
    "ax.set_ylim(top=1)\n",
    "ax.set_ylabel('Response')\n",
    "ax.set_xlabel('Time')\n",
    "\n",
    "'''Create a title for the figure'''\n",
    "fig.suptitle('Example of Plotting in Matplotlib', fontsize=16, weight='bold')"
   ]
  },
  {
   "cell_type": "markdown",
   "metadata": {},
   "source": [
    "Next, lets generate a cool plot using the *fill_between()* function from *matplotlib*."
   ]
  },
  {
   "cell_type": "code",
   "execution_count": 49,
   "metadata": {},
   "outputs": [
    {
     "data": {
      "text/plain": [
       "Text(0.5, 0.98, 'Example of Plotting in Matplotlib with fill_between()')"
      ]
     },
     "execution_count": 49,
     "metadata": {},
     "output_type": "execute_result"
    },
    {
     "data": {
      "image/png": "[encoded data removed]",
      "text/plain": [
       "<Figure size 750x500 with 1 Axes>"
      ]
     },
     "metadata": {
      "needs_background": "light"
     },
     "output_type": "display_data"
    }
   ],
   "source": [
    "'''Create a new set of figure and axes objects'''\n",
    "fig2=plt.figure(dpi=125)\n",
    "ax2=plt.axes()\n",
    "\n",
    "'''Generate the plots and add a grid to the axis'''\n",
    "plt.fill_between(DF.Input,DF.Function1,color='steelblue',alpha=0.3,linewidth=0,label='Function1')\n",
    "plt.fill_between(DF.Input,DF.Function2,color='slategrey',alpha=0.3,linewidth=0,label='Function2')\n",
    "plt.grid()\n",
    "\n",
    "'''Add a legend and set the axis limits and labels'''\n",
    "ax2.legend(loc='upper right',fontsize=16,facecolor='white',framealpha=0.25)\n",
    "ax2.set_xlim(right = DF.Input.iloc[-1] , left = DF.Input.iloc[0])\n",
    "ax2.set_ylim(top=1)\n",
    "ax2.set_ylabel('Response')\n",
    "ax2.set_xlabel('Time')\n",
    "\n",
    "'''Create a title for the figure'''\n",
    "fig2.suptitle('Example of Plotting in Matplotlib with fill_between()', fontsize=16,weight='bold')"
   ]
  },
  {
   "cell_type": "markdown",
   "metadata": {},
   "source": [
    "### Pandas Intro 1.2\n",
    "Next, lets play with some actual data from a project I did for my ME 553 Feeback Control Systems class.  For this project, I was using an Arduino to control the temperature of a heating element; the goal was to bring the temperature up to a certain target (50$^{\\circ}$ in this case) and then hold the element at this temperature.  For this project, I wrote a python script that logs the serial output from the Arduino into a .csv file; the Arduino measured and output the following parameters to the serial output:\n",
    "1. Time at which the sample was taken\n",
    "2. Ambient Temperature\n",
    "3. Heating Element Temperature\n",
    "4. Duty Cycle of the Heating Element\n",
    "\n",
    "We can open this data from the .csv file using the Pandas function *read_csv()*."
   ]
  },
  {
   "cell_type": "code",
   "execution_count": 50,
   "metadata": {},
   "outputs": [],
   "source": [
    "'''Store the name of the csv file - note that it has to be in our current directory if we just supply\n",
    "the name, otherwise we have to supply the entire path to the file; however, there are some super nice\n",
    "python modules that make this task pretty easy.'''\n",
    "\n",
    "FileName='TempData.csv'\n",
    "\n",
    "'''Create the DataFrame'''\n",
    "DF2=pd.read_csv(FileName)\n"
   ]
  },
  {
   "cell_type": "markdown",
   "metadata": {},
   "source": [
    "If we wish to verify that the data loaded in properly, a handy function to use is the *head()* function  wich is a method of a *DataFrame* object. The *head* function just returns the first five rows of the DataFrame we access it through."
   ]
  },
  {
   "cell_type": "code",
   "execution_count": 51,
   "metadata": {},
   "outputs": [
    {
     "data": {
      "text/html": [
       "<div>\n",
       "<style scoped>\n",
       "    .dataframe tbody tr th:only-of-type {\n",
       "        vertical-align: middle;\n",
       "    }\n",
       "\n",
       "    .dataframe tbody tr th {\n",
       "        vertical-align: top;\n",
       "    }\n",
       "\n",
       "    .dataframe thead th {\n",
       "        text-align: right;\n",
       "    }\n",
       "</style>\n",
       "<table border=\"1\" class=\"dataframe\">\n",
       "  <thead>\n",
       "    <tr style=\"text-align: right;\">\n",
       "      <th></th>\n",
       "      <th>Time</th>\n",
       "      <th>Ambient</th>\n",
       "      <th>Heater</th>\n",
       "      <th>Duty Cycle</th>\n",
       "    </tr>\n",
       "  </thead>\n",
       "  <tbody>\n",
       "    <tr>\n",
       "      <td>0</td>\n",
       "      <td>2019-04-25 18:34:20</td>\n",
       "      <td>NaN</td>\n",
       "      <td>NaN</td>\n",
       "      <td>NaN</td>\n",
       "    </tr>\n",
       "    <tr>\n",
       "      <td>1</td>\n",
       "      <td>2019-04-25 18:34:21</td>\n",
       "      <td>19.00</td>\n",
       "      <td>NaN</td>\n",
       "      <td>NaN</td>\n",
       "    </tr>\n",
       "    <tr>\n",
       "      <td>2</td>\n",
       "      <td>2019-04-25 18:34:21</td>\n",
       "      <td>20.37</td>\n",
       "      <td>19.0</td>\n",
       "      <td>NaN</td>\n",
       "    </tr>\n",
       "    <tr>\n",
       "      <td>3</td>\n",
       "      <td>2019-04-25 18:34:21</td>\n",
       "      <td>20.37</td>\n",
       "      <td>19.0</td>\n",
       "      <td>100.0</td>\n",
       "    </tr>\n",
       "    <tr>\n",
       "      <td>4</td>\n",
       "      <td>2019-04-25 18:34:22</td>\n",
       "      <td>20.37</td>\n",
       "      <td>19.0</td>\n",
       "      <td>72.9</td>\n",
       "    </tr>\n",
       "  </tbody>\n",
       "</table>\n",
       "</div>"
      ],
      "text/plain": [
       "                  Time  Ambient  Heater  Duty Cycle\n",
       "0  2019-04-25 18:34:20      NaN     NaN         NaN\n",
       "1  2019-04-25 18:34:21    19.00     NaN         NaN\n",
       "2  2019-04-25 18:34:21    20.37    19.0         NaN\n",
       "3  2019-04-25 18:34:21    20.37    19.0       100.0\n",
       "4  2019-04-25 18:34:22    20.37    19.0        72.9"
      ]
     },
     "execution_count": 51,
     "metadata": {},
     "output_type": "execute_result"
    }
   ],
   "source": [
    "DF2.head()"
   ]
  },
  {
   "cell_type": "markdown",
   "metadata": {},
   "source": [
    "See how that works?  We have our *DataFrame* object named DF2 and we call the *head()* function through this dataframe using the '.' followed by the function name.  This is how functions specific to *DataFrame* objects can be called - *head()* is just one of many, many functions that can be called through a *DataFrame* object. For instance, we could type *DF2.tail()* to get the last five rows of the dataframe or we could type *DF2.max()* to get the maximum value of each column."
   ]
  },
  {
   "cell_type": "code",
   "execution_count": 52,
   "metadata": {},
   "outputs": [
    {
     "data": {
      "text/html": [
       "<div>\n",
       "<style scoped>\n",
       "    .dataframe tbody tr th:only-of-type {\n",
       "        vertical-align: middle;\n",
       "    }\n",
       "\n",
       "    .dataframe tbody tr th {\n",
       "        vertical-align: top;\n",
       "    }\n",
       "\n",
       "    .dataframe thead th {\n",
       "        text-align: right;\n",
       "    }\n",
       "</style>\n",
       "<table border=\"1\" class=\"dataframe\">\n",
       "  <thead>\n",
       "    <tr style=\"text-align: right;\">\n",
       "      <th></th>\n",
       "      <th>Time</th>\n",
       "      <th>Ambient</th>\n",
       "      <th>Heater</th>\n",
       "      <th>Duty Cycle</th>\n",
       "    </tr>\n",
       "  </thead>\n",
       "  <tbody>\n",
       "    <tr>\n",
       "      <td>1309</td>\n",
       "      <td>2019-04-25 18:42:26</td>\n",
       "      <td>20.44</td>\n",
       "      <td>50.00</td>\n",
       "      <td>15.6</td>\n",
       "    </tr>\n",
       "    <tr>\n",
       "      <td>1310</td>\n",
       "      <td>2019-04-25 18:42:26</td>\n",
       "      <td>20.44</td>\n",
       "      <td>50.25</td>\n",
       "      <td>NaN</td>\n",
       "    </tr>\n",
       "    <tr>\n",
       "      <td>1311</td>\n",
       "      <td>2019-04-25 18:42:26</td>\n",
       "      <td>20.44</td>\n",
       "      <td>50.25</td>\n",
       "      <td>9.2</td>\n",
       "    </tr>\n",
       "    <tr>\n",
       "      <td>1312</td>\n",
       "      <td>2019-04-25 18:42:27</td>\n",
       "      <td>20.44</td>\n",
       "      <td>50.25</td>\n",
       "      <td>1.3</td>\n",
       "    </tr>\n",
       "    <tr>\n",
       "      <td>1313</td>\n",
       "      <td>2019-04-25 18:42:27</td>\n",
       "      <td>20.37</td>\n",
       "      <td>50.00</td>\n",
       "      <td>2.9</td>\n",
       "    </tr>\n",
       "  </tbody>\n",
       "</table>\n",
       "</div>"
      ],
      "text/plain": [
       "                     Time  Ambient  Heater  Duty Cycle\n",
       "1309  2019-04-25 18:42:26    20.44   50.00        15.6\n",
       "1310  2019-04-25 18:42:26    20.44   50.25         NaN\n",
       "1311  2019-04-25 18:42:26    20.44   50.25         9.2\n",
       "1312  2019-04-25 18:42:27    20.44   50.25         1.3\n",
       "1313  2019-04-25 18:42:27    20.37   50.00         2.9"
      ]
     },
     "execution_count": 52,
     "metadata": {},
     "output_type": "execute_result"
    }
   ],
   "source": [
    "DF2.tail()"
   ]
  },
  {
   "cell_type": "code",
   "execution_count": 53,
   "metadata": {},
   "outputs": [
    {
     "data": {
      "text/plain": [
       "Time          2019-04-25 18:42:27\n",
       "Ambient                     21.37\n",
       "Heater                         51\n",
       "Duty Cycle                    100\n",
       "dtype: object"
      ]
     },
     "execution_count": 53,
     "metadata": {},
     "output_type": "execute_result"
    }
   ],
   "source": [
    "DF2.max()"
   ]
  },
  {
   "cell_type": "markdown",
   "metadata": {},
   "source": [
    "Or, another really useful function is *describe()*. This one gives us a summary of the dataset by returning several statistics about each column."
   ]
  },
  {
   "cell_type": "code",
   "execution_count": 54,
   "metadata": {},
   "outputs": [
    {
     "data": {
      "text/html": [
       "<div>\n",
       "<style scoped>\n",
       "    .dataframe tbody tr th:only-of-type {\n",
       "        vertical-align: middle;\n",
       "    }\n",
       "\n",
       "    .dataframe tbody tr th {\n",
       "        vertical-align: top;\n",
       "    }\n",
       "\n",
       "    .dataframe thead th {\n",
       "        text-align: right;\n",
       "    }\n",
       "</style>\n",
       "<table border=\"1\" class=\"dataframe\">\n",
       "  <thead>\n",
       "    <tr style=\"text-align: right;\">\n",
       "      <th></th>\n",
       "      <th>Ambient</th>\n",
       "      <th>Heater</th>\n",
       "      <th>Duty Cycle</th>\n",
       "    </tr>\n",
       "  </thead>\n",
       "  <tbody>\n",
       "    <tr>\n",
       "      <td>count</td>\n",
       "      <td>1313.000000</td>\n",
       "      <td>1312.000000</td>\n",
       "      <td>1019.000000</td>\n",
       "    </tr>\n",
       "    <tr>\n",
       "      <td>mean</td>\n",
       "      <td>20.467540</td>\n",
       "      <td>48.204078</td>\n",
       "      <td>11.313445</td>\n",
       "    </tr>\n",
       "    <tr>\n",
       "      <td>std</td>\n",
       "      <td>0.119488</td>\n",
       "      <td>6.627716</td>\n",
       "      <td>17.084617</td>\n",
       "    </tr>\n",
       "    <tr>\n",
       "      <td>min</td>\n",
       "      <td>19.000000</td>\n",
       "      <td>19.000000</td>\n",
       "      <td>0.100000</td>\n",
       "    </tr>\n",
       "    <tr>\n",
       "      <td>25%</td>\n",
       "      <td>20.440000</td>\n",
       "      <td>49.750000</td>\n",
       "      <td>3.600000</td>\n",
       "    </tr>\n",
       "    <tr>\n",
       "      <td>50%</td>\n",
       "      <td>20.500000</td>\n",
       "      <td>50.000000</td>\n",
       "      <td>5.200000</td>\n",
       "    </tr>\n",
       "    <tr>\n",
       "      <td>75%</td>\n",
       "      <td>20.500000</td>\n",
       "      <td>50.250000</td>\n",
       "      <td>10.200000</td>\n",
       "    </tr>\n",
       "    <tr>\n",
       "      <td>max</td>\n",
       "      <td>21.370000</td>\n",
       "      <td>51.000000</td>\n",
       "      <td>100.000000</td>\n",
       "    </tr>\n",
       "  </tbody>\n",
       "</table>\n",
       "</div>"
      ],
      "text/plain": [
       "           Ambient       Heater   Duty Cycle\n",
       "count  1313.000000  1312.000000  1019.000000\n",
       "mean     20.467540    48.204078    11.313445\n",
       "std       0.119488     6.627716    17.084617\n",
       "min      19.000000    19.000000     0.100000\n",
       "25%      20.440000    49.750000     3.600000\n",
       "50%      20.500000    50.000000     5.200000\n",
       "75%      20.500000    50.250000    10.200000\n",
       "max      21.370000    51.000000   100.000000"
      ]
     },
     "execution_count": 54,
     "metadata": {},
     "output_type": "execute_result"
    }
   ],
   "source": [
    "DF2.describe()"
   ]
  },
  {
   "cell_type": "markdown",
   "metadata": {},
   "source": [
    "Note that the *count* value (which gives the number of rows in the column) for Ambient is 1319 while the *count* for both Heater and Duty Cycle is 1318.  This is because the Heater and Duty Cycle columns contain some *NAN* values which are not counted... fortunately, pandas has a really slick function for solving this problem. Let's type in *DF2.dropna(how='any').head()* and see what happens."
   ]
  },
  {
   "cell_type": "code",
   "execution_count": 55,
   "metadata": {},
   "outputs": [
    {
     "data": {
      "text/html": [
       "<div>\n",
       "<style scoped>\n",
       "    .dataframe tbody tr th:only-of-type {\n",
       "        vertical-align: middle;\n",
       "    }\n",
       "\n",
       "    .dataframe tbody tr th {\n",
       "        vertical-align: top;\n",
       "    }\n",
       "\n",
       "    .dataframe thead th {\n",
       "        text-align: right;\n",
       "    }\n",
       "</style>\n",
       "<table border=\"1\" class=\"dataframe\">\n",
       "  <thead>\n",
       "    <tr style=\"text-align: right;\">\n",
       "      <th></th>\n",
       "      <th>Time</th>\n",
       "      <th>Ambient</th>\n",
       "      <th>Heater</th>\n",
       "      <th>Duty Cycle</th>\n",
       "    </tr>\n",
       "  </thead>\n",
       "  <tbody>\n",
       "    <tr>\n",
       "      <td>3</td>\n",
       "      <td>2019-04-25 18:34:21</td>\n",
       "      <td>20.37</td>\n",
       "      <td>19.0</td>\n",
       "      <td>100.0</td>\n",
       "    </tr>\n",
       "    <tr>\n",
       "      <td>4</td>\n",
       "      <td>2019-04-25 18:34:22</td>\n",
       "      <td>20.37</td>\n",
       "      <td>19.0</td>\n",
       "      <td>72.9</td>\n",
       "    </tr>\n",
       "    <tr>\n",
       "      <td>5</td>\n",
       "      <td>2019-04-25 18:34:22</td>\n",
       "      <td>20.37</td>\n",
       "      <td>19.0</td>\n",
       "      <td>72.9</td>\n",
       "    </tr>\n",
       "    <tr>\n",
       "      <td>6</td>\n",
       "      <td>2019-04-25 18:34:22</td>\n",
       "      <td>20.44</td>\n",
       "      <td>19.0</td>\n",
       "      <td>72.9</td>\n",
       "    </tr>\n",
       "    <tr>\n",
       "      <td>7</td>\n",
       "      <td>2019-04-25 18:34:23</td>\n",
       "      <td>20.37</td>\n",
       "      <td>19.0</td>\n",
       "      <td>72.9</td>\n",
       "    </tr>\n",
       "  </tbody>\n",
       "</table>\n",
       "</div>"
      ],
      "text/plain": [
       "                  Time  Ambient  Heater  Duty Cycle\n",
       "3  2019-04-25 18:34:21    20.37    19.0       100.0\n",
       "4  2019-04-25 18:34:22    20.37    19.0        72.9\n",
       "5  2019-04-25 18:34:22    20.37    19.0        72.9\n",
       "6  2019-04-25 18:34:22    20.44    19.0        72.9\n",
       "7  2019-04-25 18:34:23    20.37    19.0        72.9"
      ]
     },
     "execution_count": 55,
     "metadata": {},
     "output_type": "execute_result"
    }
   ],
   "source": [
    "DF2.dropna(how='any').head()"
   ]
  },
  {
   "cell_type": "markdown",
   "metadata": {},
   "source": [
    "Nice! the *NAN* values are gone now.  The *dropna()* function allows us to drop rows that contain *NAN* values from the dataframe, and the cool thing is we can specify how we want to deal with *NAN*. For our case, we wanted to eliminate rows that contain any *NAN*, so we passed the argument *how ='all'* to *dropna()*. If we only wanted to drop rows where all the values in that row are *NAN*, then we could have just specified *how='all'*.\n",
    "\n",
    "Another item to note is that we called two functions in sequence on *DF2*; we first called *dropna* and then called *head*. This can be useful, but note that these these functions are called sequentially meaning that the first function is executed on the calling dataframe and then the second function is executed on the dataframe that is returned by the first function.\n",
    "\n",
    "Finally, we come to a very important part of pandas... we just ran the *dropna()* function on the *DF2* dataframe, but what happens to *DF2*? is it changed at all?\n",
    "\n",
    "*DF2* was created and stored in memory when we first created it using the *read_csv()* function.  When we called the *head*, *tail*, *describe*, and *dropna* functions on *DF2*, those functions, in no way, impact *DF2*; they just return a new *DataFrame* object that is not stored in memory.  If we want to change *DF2*, then we can just set *DF2* equal to this new dataframe."
   ]
  },
  {
   "cell_type": "code",
   "execution_count": 56,
   "metadata": {},
   "outputs": [
    {
     "data": {
      "text/html": [
       "<div>\n",
       "<style scoped>\n",
       "    .dataframe tbody tr th:only-of-type {\n",
       "        vertical-align: middle;\n",
       "    }\n",
       "\n",
       "    .dataframe tbody tr th {\n",
       "        vertical-align: top;\n",
       "    }\n",
       "\n",
       "    .dataframe thead th {\n",
       "        text-align: right;\n",
       "    }\n",
       "</style>\n",
       "<table border=\"1\" class=\"dataframe\">\n",
       "  <thead>\n",
       "    <tr style=\"text-align: right;\">\n",
       "      <th></th>\n",
       "      <th>Ambient</th>\n",
       "      <th>Heater</th>\n",
       "      <th>Duty Cycle</th>\n",
       "    </tr>\n",
       "  </thead>\n",
       "  <tbody>\n",
       "    <tr>\n",
       "      <td>count</td>\n",
       "      <td>1019.000000</td>\n",
       "      <td>1019.000000</td>\n",
       "      <td>1019.000000</td>\n",
       "    </tr>\n",
       "    <tr>\n",
       "      <td>mean</td>\n",
       "      <td>20.470972</td>\n",
       "      <td>47.692836</td>\n",
       "      <td>11.313445</td>\n",
       "    </tr>\n",
       "    <tr>\n",
       "      <td>std</td>\n",
       "      <td>0.109524</td>\n",
       "      <td>7.378318</td>\n",
       "      <td>17.084617</td>\n",
       "    </tr>\n",
       "    <tr>\n",
       "      <td>min</td>\n",
       "      <td>19.690000</td>\n",
       "      <td>19.000000</td>\n",
       "      <td>0.100000</td>\n",
       "    </tr>\n",
       "    <tr>\n",
       "      <td>25%</td>\n",
       "      <td>20.440000</td>\n",
       "      <td>49.750000</td>\n",
       "      <td>3.600000</td>\n",
       "    </tr>\n",
       "    <tr>\n",
       "      <td>50%</td>\n",
       "      <td>20.440000</td>\n",
       "      <td>50.000000</td>\n",
       "      <td>5.200000</td>\n",
       "    </tr>\n",
       "    <tr>\n",
       "      <td>75%</td>\n",
       "      <td>20.500000</td>\n",
       "      <td>50.000000</td>\n",
       "      <td>10.200000</td>\n",
       "    </tr>\n",
       "    <tr>\n",
       "      <td>max</td>\n",
       "      <td>21.370000</td>\n",
       "      <td>51.000000</td>\n",
       "      <td>100.000000</td>\n",
       "    </tr>\n",
       "  </tbody>\n",
       "</table>\n",
       "</div>"
      ],
      "text/plain": [
       "           Ambient       Heater   Duty Cycle\n",
       "count  1019.000000  1019.000000  1019.000000\n",
       "mean     20.470972    47.692836    11.313445\n",
       "std       0.109524     7.378318    17.084617\n",
       "min      19.690000    19.000000     0.100000\n",
       "25%      20.440000    49.750000     3.600000\n",
       "50%      20.440000    50.000000     5.200000\n",
       "75%      20.500000    50.000000    10.200000\n",
       "max      21.370000    51.000000   100.000000"
      ]
     },
     "execution_count": 56,
     "metadata": {},
     "output_type": "execute_result"
    }
   ],
   "source": [
    "DF2=DF2.dropna(how='any')\n",
    "DF2.describe()"
   ]
  },
  {
   "cell_type": "markdown",
   "metadata": {},
   "source": [
    "If we now call *describe* on *DF2*, we see that we have made the desired changes to *DF2*; however, it should be noted that the Time column is missing, that is, *describe* returns no summaries on the Time column.  This is because Time is a non-numeric type, specifically, Time contains data of type *string*, and obiously, statistical summaries do not pertain to *strings*.  This leads to one of the most important concepts in pandas and in programming in general - Data Types.  Every column in a *DataFrame* has a specific *type* associated with it.  When we import from a .csv file, Pandas automatically converts any numeric data straight to an appropriate *type* (typically, *float64*); however, non-numeric data are left as *string*. For our case, we want Time to be of type *datetime*; we can accomplish this by using the *to_datetime()* function from Pandas."
   ]
  },
  {
   "cell_type": "code",
   "execution_count": 57,
   "metadata": {},
   "outputs": [],
   "source": [
    "DF2['Time'] = pd.to_datetime(DF2.Time)\n",
    "\n",
    "DF2['TimeElapsed'] = (DF2.Time-DF2.Time.iloc[0]).dt.total_seconds()"
   ]
  },
  {
   "cell_type": "markdown",
   "metadata": {},
   "source": [
    "It is usually a good idea to index your data using a meaningful column..."
   ]
  },
  {
   "cell_type": "code",
   "execution_count": 58,
   "metadata": {},
   "outputs": [],
   "source": [
    "DF2.set_index('Time',inplace=True)"
   ]
  },
  {
   "cell_type": "code",
   "execution_count": 59,
   "metadata": {},
   "outputs": [
    {
     "data": {
      "text/plain": [
       "Text(0.5, 0.98, 'Plot of Demo Temperature Data')"
      ]
     },
     "execution_count": 59,
     "metadata": {},
     "output_type": "execute_result"
    },
    {
     "data": {
      "image/png": "[encoded data removed]",
      "text/plain": [
       "<Figure size 750x500 with 1 Axes>"
      ]
     },
     "metadata": {
      "needs_background": "light"
     },
     "output_type": "display_data"
    }
   ],
   "source": [
    "'''Create figure and axes objects'''\n",
    "fig3=plt.figure(dpi=125)\n",
    "ax3=plt.axes()\n",
    "\n",
    "'''Generate the plots and add a grid to the axis'''\n",
    "plt.plot(DF2.TimeElapsed/60,DF2.Ambient,color='darkorange',linewidth=3,label='Ambient')\n",
    "plt.plot(DF2.TimeElapsed/60,DF2.Heater,color='dodgerblue',linewidth=3,label='Heater')\n",
    "plt.grid()\n",
    "\n",
    "'''Add a legend and set the axis limits and labels'''\n",
    "ax3.legend(loc='center right',fontsize=16,facecolor='white',framealpha=0.25)\n",
    "ax3.set_xlim(right = DF2.TimeElapsed.iloc[-1]/60 , left = DF2.TimeElapsed.iloc[0]/60)\n",
    "ax3.set_ylim(bottom=10,top=DF2.Heater.max()+2)\n",
    "ax3.set_ylabel('Temperature [$^{\\circ}C$]')\n",
    "ax3.set_xlabel('Time [Minutes]')\n",
    "\n",
    "'''Create a title for the figure'''\n",
    "fig3.suptitle('Plot of Demo Temperature Data', fontsize=16, weight='bold')"
   ]
  },
  {
   "cell_type": "code",
   "execution_count": 60,
   "metadata": {},
   "outputs": [],
   "source": [
    "DF3=pd.read_csv('DistanceData.csv')"
   ]
  },
  {
   "cell_type": "code",
   "execution_count": 61,
   "metadata": {},
   "outputs": [],
   "source": [
    "DF3.drop('Finish',axis=1,inplace=True)\n",
    "DF3.rename(columns={'Start':'Date','Distance (mi)':'Distance'},inplace=True)\n",
    "DF3.Date= pd.to_datetime(DF3.Date)\n",
    "DF3.set_index('Date',inplace=True)\n",
    "DF3['Month'] = DF3.index.month\n"
   ]
  },
  {
   "cell_type": "code",
   "execution_count": 62,
   "metadata": {},
   "outputs": [
    {
     "data": {
      "text/html": [
       "<div>\n",
       "<style scoped>\n",
       "    .dataframe tbody tr th:only-of-type {\n",
       "        vertical-align: middle;\n",
       "    }\n",
       "\n",
       "    .dataframe tbody tr th {\n",
       "        vertical-align: top;\n",
       "    }\n",
       "\n",
       "    .dataframe thead th {\n",
       "        text-align: right;\n",
       "    }\n",
       "</style>\n",
       "<table border=\"1\" class=\"dataframe\">\n",
       "  <thead>\n",
       "    <tr style=\"text-align: right;\">\n",
       "      <th></th>\n",
       "      <th>Distance</th>\n",
       "      <th>Month</th>\n",
       "    </tr>\n",
       "  </thead>\n",
       "  <tbody>\n",
       "    <tr>\n",
       "      <td>count</td>\n",
       "      <td>346.000000</td>\n",
       "      <td>346.000000</td>\n",
       "    </tr>\n",
       "    <tr>\n",
       "      <td>mean</td>\n",
       "      <td>5.641015</td>\n",
       "      <td>6.407514</td>\n",
       "    </tr>\n",
       "    <tr>\n",
       "      <td>std</td>\n",
       "      <td>1.822416</td>\n",
       "      <td>3.506326</td>\n",
       "    </tr>\n",
       "    <tr>\n",
       "      <td>min</td>\n",
       "      <td>0.831800</td>\n",
       "      <td>1.000000</td>\n",
       "    </tr>\n",
       "    <tr>\n",
       "      <td>25%</td>\n",
       "      <td>4.511888</td>\n",
       "      <td>3.000000</td>\n",
       "    </tr>\n",
       "    <tr>\n",
       "      <td>50%</td>\n",
       "      <td>5.370824</td>\n",
       "      <td>6.000000</td>\n",
       "    </tr>\n",
       "    <tr>\n",
       "      <td>75%</td>\n",
       "      <td>6.284308</td>\n",
       "      <td>10.000000</td>\n",
       "    </tr>\n",
       "    <tr>\n",
       "      <td>max</td>\n",
       "      <td>16.316109</td>\n",
       "      <td>12.000000</td>\n",
       "    </tr>\n",
       "  </tbody>\n",
       "</table>\n",
       "</div>"
      ],
      "text/plain": [
       "         Distance       Month\n",
       "count  346.000000  346.000000\n",
       "mean     5.641015    6.407514\n",
       "std      1.822416    3.506326\n",
       "min      0.831800    1.000000\n",
       "25%      4.511888    3.000000\n",
       "50%      5.370824    6.000000\n",
       "75%      6.284308   10.000000\n",
       "max     16.316109   12.000000"
      ]
     },
     "execution_count": 62,
     "metadata": {},
     "output_type": "execute_result"
    }
   ],
   "source": [
    "DF3.describe()"
   ]
  },
  {
   "cell_type": "code",
   "execution_count": 63,
   "metadata": {},
   "outputs": [
    {
     "data": {
      "text/plain": [
       "<matplotlib.collections.PathCollection at 0x7ff76805c7b8>"
      ]
     },
     "execution_count": 63,
     "metadata": {},
     "output_type": "execute_result"
    },
    {
     "data": {
      "image/png": "[encoded data removed]",
      "text/plain": [
       "<Figure size 432x288 with 1 Axes>"
      ]
     },
     "metadata": {
      "needs_background": "light"
     },
     "output_type": "display_data"
    }
   ],
   "source": [
    "plt.scatter(DF3.index,DF3.Distance)"
   ]
  },
  {
   "cell_type": "code",
   "execution_count": 67,
   "metadata": {},
   "outputs": [
    {
     "data": {
      "text/plain": [
       "(array([ 1.,  1.,  8., 19., 76., 81., 71., 39., 17., 12.,  8.,  3.,  2.,\n",
       "         1.,  1.,  4.,  1.,  0.,  0.,  1.]),\n",
       " array([ 0.83180006,  1.60601551,  2.38023096,  3.1544464 ,  3.92866185,\n",
       "         4.7028773 ,  5.47709275,  6.2513082 ,  7.02552365,  7.7997391 ,\n",
       "         8.57395455,  9.34817   , 10.12238545, 10.8966009 , 11.67081635,\n",
       "        12.4450318 , 13.21924725, 13.9934627 , 14.76767815, 15.5418936 ,\n",
       "        16.31610905]),\n",
       " <a list of 20 Patch objects>)"
      ]
     },
     "execution_count": 67,
     "metadata": {},
     "output_type": "execute_result"
    },
    {
     "data": {
      "image/png": "[encoded data removed]",
      "text/plain": [
       "<Figure size 432x288 with 1 Axes>"
      ]
     },
     "metadata": {
      "needs_background": "light"
     },
     "output_type": "display_data"
    }
   ],
   "source": [
    "plt.hist(DF3.Distance,bins=20,color='slateblue',alpha=0.35)"
   ]
  },
  {
   "cell_type": "code",
   "execution_count": 65,
   "metadata": {},
   "outputs": [],
   "source": [
    "DF3['Month'] = DF3.index.month\n",
    "Aggregate = DF3.groupby(by='Month').mean()"
   ]
  },
  {
   "cell_type": "code",
   "execution_count": 66,
   "metadata": {},
   "outputs": [
    {
     "data": {
      "text/plain": [
       "Text(0, 0.5, 'Distance [Miles]')"
      ]
     },
     "execution_count": 66,
     "metadata": {},
     "output_type": "execute_result"
    },
    {
     "data": {
      "image/png": "[encoded data removed]",
      "text/plain": [
       "<Figure size 780x520 with 1 Axes>"
      ]
     },
     "metadata": {
      "needs_background": "light"
     },
     "output_type": "display_data"
    }
   ],
   "source": [
    "fig4=plt.figure(dpi=130)\n",
    "ax4=plt.axes()\n",
    "plt.fill_between(Aggregate.index,Aggregate.Distance,color='firebrick',alpha=0.15)\n",
    "plt.grid()\n",
    "plt.title('Mean Monthly Walking Distance',weight='bold')\n",
    "ax4.set_xlim(left=1,right=12)\n",
    "ax4.set_ylim(bottom=0,top=7)\n",
    "ax4.set_xlabel('Month')\n",
    "ax4.set_ylabel('Distance [Miles]')"
   ]
  }
 ],
 "metadata": {
  "kernelspec": {
   "display_name": "Python 3",
   "language": "python",
   "name": "python3"
  },
  "language_info": {
   "codemirror_mode": {
    "name": "ipython",
    "version": 3
   },
   "file_extension": ".py",
   "mimetype": "text/x-python",
   "name": "python",
   "nbconvert_exporter": "python",
   "pygments_lexer": "ipython3",
   "version": "3.7.3"
  }
 },
 "nbformat": 4,
 "nbformat_minor": 2
}
